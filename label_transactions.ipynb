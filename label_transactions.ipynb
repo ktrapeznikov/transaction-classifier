{
 "cells": [
  {
   "cell_type": "markdown",
   "metadata": {},
   "source": [
    "# Classify Financial Transactions\n",
    "A package to classify financial transactions with a lightweight neural network. I use this to automatically categorize my spending between `common expenses` vs `personal`.   \n",
    "This uses `pytorch` and [`pytorch-lighting`](https://pytorch-lightning.readthedocs.io/en/latest/)"
   ]
  },
  {
   "cell_type": "markdown",
   "metadata": {},
   "source": [
    "## Let's look at the data\n",
    "We'll use some financial transactions exported as csv with several useful fields."
   ]
  },
  {
   "cell_type": "code",
   "execution_count": 2,
   "metadata": {},
   "outputs": [],
   "source": [
    "from models import TransClassifier, read_and_process_data, train_tokenizer, compute_features, prepair_training_dataset, \\\n",
    "    inspect\n",
    "import pytorch_lightning as pl\n",
    "from argparse import Namespace\n",
    "from logging import getLogger\n",
    "import torch\n",
    "import os\n",
    "from shutil import copyfile\n",
    "device = \"cuda\" if torch.cuda.is_available() else \"cpu\""
   ]
  },
  {
   "cell_type": "code",
   "execution_count": 3,
   "metadata": {},
   "outputs": [
    {
     "name": "stderr",
     "output_type": "stream",
     "text": [
      "INFO:root:0.32961435847683723\n"
     ]
    },
    {
     "data": {
      "text/html": [
       "<div>\n",
       "<style scoped>\n",
       "    .dataframe tbody tr th:only-of-type {\n",
       "        vertical-align: middle;\n",
       "    }\n",
       "\n",
       "    .dataframe tbody tr th {\n",
       "        vertical-align: top;\n",
       "    }\n",
       "\n",
       "    .dataframe thead th {\n",
       "        text-align: right;\n",
       "    }\n",
       "</style>\n",
       "<table border=\"1\" class=\"dataframe\">\n",
       "  <thead>\n",
       "    <tr style=\"text-align: right;\">\n",
       "      <th></th>\n",
       "      <th>Date</th>\n",
       "      <th>Description</th>\n",
       "      <th>Original Description</th>\n",
       "      <th>Amount</th>\n",
       "      <th>Transaction Type</th>\n",
       "      <th>Category</th>\n",
       "      <th>Account Name</th>\n",
       "      <th>Labels</th>\n",
       "      <th>Notes</th>\n",
       "      <th>feature_string</th>\n",
       "      <th>label</th>\n",
       "      <th>feature_float</th>\n",
       "      <th>weights</th>\n",
       "    </tr>\n",
       "  </thead>\n",
       "  <tbody>\n",
       "    <tr>\n",
       "      <th>0</th>\n",
       "      <td>2020-01-19</td>\n",
       "      <td>LOYAL NINE</td>\n",
       "      <td>LOYAL NINE</td>\n",
       "      <td>22.47</td>\n",
       "      <td>debit</td>\n",
       "      <td>Coffee Shops</td>\n",
       "      <td>CREDIT CARD</td>\n",
       "      <td>NaN</td>\n",
       "      <td>NaN</td>\n",
       "      <td>coffee shops sunday credit card debit loyal nine</td>\n",
       "      <td>False</td>\n",
       "      <td>22.47</td>\n",
       "      <td>1.0</td>\n",
       "    </tr>\n",
       "    <tr>\n",
       "      <th>1</th>\n",
       "      <td>2020-01-19</td>\n",
       "      <td>LOYAL NINE</td>\n",
       "      <td>LOYAL NINE</td>\n",
       "      <td>12.20</td>\n",
       "      <td>debit</td>\n",
       "      <td>Coffee Shops</td>\n",
       "      <td>CREDIT CARD</td>\n",
       "      <td>NaN</td>\n",
       "      <td>NaN</td>\n",
       "      <td>coffee shops sunday credit card debit loyal nine</td>\n",
       "      <td>False</td>\n",
       "      <td>12.20</td>\n",
       "      <td>1.0</td>\n",
       "    </tr>\n",
       "    <tr>\n",
       "      <th>2</th>\n",
       "      <td>2020-01-18</td>\n",
       "      <td>Stop &amp; Shop</td>\n",
       "      <td>STOP &amp; SHOP 0039</td>\n",
       "      <td>13.68</td>\n",
       "      <td>debit</td>\n",
       "      <td>Groceries</td>\n",
       "      <td>CREDIT CARD</td>\n",
       "      <td>NaN</td>\n",
       "      <td>NaN</td>\n",
       "      <td>groceries saturday credit card debit stop &amp; sh...</td>\n",
       "      <td>False</td>\n",
       "      <td>13.68</td>\n",
       "      <td>1.0</td>\n",
       "    </tr>\n",
       "    <tr>\n",
       "      <th>3</th>\n",
       "      <td>2020-01-17</td>\n",
       "      <td>Liquor Junction</td>\n",
       "      <td>LIQUOR JUNCTION-</td>\n",
       "      <td>55.51</td>\n",
       "      <td>debit</td>\n",
       "      <td>Alcohol &amp; Bars</td>\n",
       "      <td>CREDIT CARD</td>\n",
       "      <td>NaN</td>\n",
       "      <td>NaN</td>\n",
       "      <td>alcohol &amp; bars friday credit card debit liquor...</td>\n",
       "      <td>False</td>\n",
       "      <td>55.51</td>\n",
       "      <td>1.0</td>\n",
       "    </tr>\n",
       "    <tr>\n",
       "      <th>4</th>\n",
       "      <td>2018-03-21</td>\n",
       "      <td>Lonestar Taqueria</td>\n",
       "      <td>LONESTAR TAQUERIA</td>\n",
       "      <td>14.16</td>\n",
       "      <td>debit</td>\n",
       "      <td>Restaurants</td>\n",
       "      <td>CREDIT CARD</td>\n",
       "      <td>NaN</td>\n",
       "      <td>NaN</td>\n",
       "      <td>restaurants wednesday credit card debit lonest...</td>\n",
       "      <td>False</td>\n",
       "      <td>14.16</td>\n",
       "      <td>1.0</td>\n",
       "    </tr>\n",
       "  </tbody>\n",
       "</table>\n",
       "</div>"
      ],
      "text/plain": [
       "        Date        Description Original Description  Amount Transaction Type  \\\n",
       "0 2020-01-19         LOYAL NINE           LOYAL NINE   22.47            debit   \n",
       "1 2020-01-19         LOYAL NINE           LOYAL NINE   12.20            debit   \n",
       "2 2020-01-18        Stop & Shop     STOP & SHOP 0039   13.68            debit   \n",
       "3 2020-01-17    Liquor Junction     LIQUOR JUNCTION-   55.51            debit   \n",
       "4 2018-03-21  Lonestar Taqueria    LONESTAR TAQUERIA   14.16            debit   \n",
       "\n",
       "         Category Account Name Labels  Notes  \\\n",
       "0    Coffee Shops  CREDIT CARD    NaN    NaN   \n",
       "1    Coffee Shops  CREDIT CARD    NaN    NaN   \n",
       "2       Groceries  CREDIT CARD    NaN    NaN   \n",
       "3  Alcohol & Bars  CREDIT CARD    NaN    NaN   \n",
       "4     Restaurants  CREDIT CARD    NaN    NaN   \n",
       "\n",
       "                                      feature_string  label  feature_float  \\\n",
       "0   coffee shops sunday credit card debit loyal nine  False          22.47   \n",
       "1   coffee shops sunday credit card debit loyal nine  False          12.20   \n",
       "2  groceries saturday credit card debit stop & sh...  False          13.68   \n",
       "3  alcohol & bars friday credit card debit liquor...  False          55.51   \n",
       "4  restaurants wednesday credit card debit lonest...  False          14.16   \n",
       "\n",
       "   weights  \n",
       "0      1.0  \n",
       "1      1.0  \n",
       "2      1.0  \n",
       "3      1.0  \n",
       "4      1.0  "
      ]
     },
     "execution_count": 3,
     "metadata": {},
     "output_type": "execute_result"
    }
   ],
   "source": [
    "data = read_and_process_data(\"transactions_training_data.csv\", after='2017-07-01')\n",
    "data.head()"
   ]
  },
  {
   "cell_type": "markdown",
   "metadata": {},
   "source": [
    "We'll concatenate a bunch of string fields into `feature_string`. We'll also use a numerical transaction `Amount` as a feature a well."
   ]
  },
  {
   "cell_type": "code",
   "execution_count": 4,
   "metadata": {},
   "outputs": [
    {
     "data": {
      "text/html": [
       "<div>\n",
       "<style scoped>\n",
       "    .dataframe tbody tr th:only-of-type {\n",
       "        vertical-align: middle;\n",
       "    }\n",
       "\n",
       "    .dataframe tbody tr th {\n",
       "        vertical-align: top;\n",
       "    }\n",
       "\n",
       "    .dataframe thead th {\n",
       "        text-align: right;\n",
       "    }\n",
       "</style>\n",
       "<table border=\"1\" class=\"dataframe\">\n",
       "  <thead>\n",
       "    <tr style=\"text-align: right;\">\n",
       "      <th></th>\n",
       "      <th>feature_string</th>\n",
       "      <th>feature_float</th>\n",
       "      <th>label</th>\n",
       "    </tr>\n",
       "  </thead>\n",
       "  <tbody>\n",
       "    <tr>\n",
       "      <th>0</th>\n",
       "      <td>coffee shops sunday credit card debit loyal nine</td>\n",
       "      <td>22.47</td>\n",
       "      <td>False</td>\n",
       "    </tr>\n",
       "    <tr>\n",
       "      <th>1</th>\n",
       "      <td>coffee shops sunday credit card debit loyal nine</td>\n",
       "      <td>12.20</td>\n",
       "      <td>False</td>\n",
       "    </tr>\n",
       "    <tr>\n",
       "      <th>2</th>\n",
       "      <td>groceries saturday credit card debit stop &amp; sh...</td>\n",
       "      <td>13.68</td>\n",
       "      <td>False</td>\n",
       "    </tr>\n",
       "    <tr>\n",
       "      <th>3</th>\n",
       "      <td>alcohol &amp; bars friday credit card debit liquor...</td>\n",
       "      <td>55.51</td>\n",
       "      <td>False</td>\n",
       "    </tr>\n",
       "    <tr>\n",
       "      <th>4</th>\n",
       "      <td>restaurants wednesday credit card debit lonest...</td>\n",
       "      <td>14.16</td>\n",
       "      <td>False</td>\n",
       "    </tr>\n",
       "  </tbody>\n",
       "</table>\n",
       "</div>"
      ],
      "text/plain": [
       "                                      feature_string  feature_float  label\n",
       "0   coffee shops sunday credit card debit loyal nine          22.47  False\n",
       "1   coffee shops sunday credit card debit loyal nine          12.20  False\n",
       "2  groceries saturday credit card debit stop & sh...          13.68  False\n",
       "3  alcohol & bars friday credit card debit liquor...          55.51  False\n",
       "4  restaurants wednesday credit card debit lonest...          14.16  False"
      ]
     },
     "execution_count": 4,
     "metadata": {},
     "output_type": "execute_result"
    }
   ],
   "source": [
    "data.loc[:,[\"feature_string\",\"feature_float\",\"label\"]].head(5)"
   ]
  },
  {
   "cell_type": "markdown",
   "metadata": {},
   "source": [
    "## Tokenizer\n",
    "Let's fit a subword tokenizer and convert the data to pytorch tensor dataset consisting of `string features, numerical features, labels, weights`"
   ]
  },
  {
   "cell_type": "code",
   "execution_count": 5,
   "metadata": {},
   "outputs": [
    {
     "data": {
      "text/plain": [
       "(tensor([[176, 208,  92,  ...,   0,   0,   0],\n",
       "         [176, 208,  92,  ...,   0,   0,   0],\n",
       "         [213, 576,  64,  ...,   0,   0,   0],\n",
       "         ...,\n",
       "         [201,  86, 199,  ...,   0,   0,   0],\n",
       "         [196, 326,  92,  ...,   0,   0,   0],\n",
       "         [139,  86, 165,  ...,   0,   0,   0]]),\n",
       " tensor([[22.4700],\n",
       "         [12.2000],\n",
       "         [13.6800],\n",
       "         ...,\n",
       "         [36.4700],\n",
       "         [53.8700],\n",
       "         [57.2200]]),\n",
       " tensor([0, 0, 0,  ..., 0, 1, 1]),\n",
       " tensor([1., 1., 1.,  ..., 1., 1., 1.]))"
      ]
     },
     "execution_count": 5,
     "metadata": {},
     "output_type": "execute_result"
    }
   ],
   "source": [
    "train_tokenizer(data)\n",
    "features_ids = compute_features(data)\n",
    "dataset = prepair_training_dataset(features_ids, data)\n",
    "dataset.tensors"
   ]
  },
  {
   "cell_type": "markdown",
   "metadata": {},
   "source": [
    "## Model\n",
    "A lightweight 1D CNN based model to encode a string sequence. Define some hparams"
   ]
  },
  {
   "cell_type": "code",
   "execution_count": 6,
   "metadata": {},
   "outputs": [],
   "source": [
    "hparams = Namespace(gpus=1 if device == \"cude\" else None,\n",
    "                        dropout_rate=.2,\n",
    "                        hidden_dim=32,\n",
    "                        batch_size=256,\n",
    "                        seq_type=\"cnn\",\n",
    "                        max_epochs=100,\n",
    "                        min_epochs=10,\n",
    "                        progress_bar_refresh_rate=0,\n",
    "                        best_model_path=\"model.ckpt\")"
   ]
  },
  {
   "cell_type": "code",
   "execution_count": 7,
   "metadata": {},
   "outputs": [
    {
     "data": {
      "text/plain": [
       "TransClassifier(\n",
       "  (emb): Embedding(1000, 32)\n",
       "  (seq_encoder): Conv1d(32, 32, kernel_size=(3,), stride=(1,))\n",
       "  (cont_lin): Linear(in_features=1, out_features=1, bias=True)\n",
       "  (cls): Linear(in_features=33, out_features=2, bias=True)\n",
       "  (drop): Dropout(p=0.2, inplace=False)\n",
       ")"
      ]
     },
     "execution_count": 7,
     "metadata": {},
     "output_type": "execute_result"
    }
   ],
   "source": [
    "model = TransClassifier(hparams)\n",
    "model"
   ]
  },
  {
   "cell_type": "markdown",
   "metadata": {},
   "source": [
    "## Traing\n",
    "train using `pl`. using `tensorboard --logdir=\"./\"`, we can inspect training at `localhost:6006`"
   ]
  },
  {
   "cell_type": "code",
   "execution_count": null,
   "metadata": {},
   "outputs": [],
   "source": [
    "trainer = pl.Trainer(max_epochs=hparams.max_epochs,\n",
    "                         min_epochs=hparams.min_epochs,\n",
    "                         gpus=hparams.gpus,\n",
    "                         progress_bar_refresh_rate=hparams.progress_bar_refresh_rate)\n",
    "\n",
    "trainer.fit(model)"
   ]
  },
  {
   "cell_type": "markdown",
   "metadata": {},
   "source": [
    "![training](imgs/img1.png)"
   ]
  },
  {
   "cell_type": "markdown",
   "metadata": {},
   "source": [
    "## Inspect"
   ]
  },
  {
   "cell_type": "markdown",
   "metadata": {},
   "source": [
    "Let's see what our model got wront"
   ]
  },
  {
   "cell_type": "code",
   "execution_count": 9,
   "metadata": {},
   "outputs": [
    {
     "data": {
      "text/plain": [
       "'mean error 0.15110356536502548'"
      ]
     },
     "execution_count": 9,
     "metadata": {},
     "output_type": "execute_result"
    }
   ],
   "source": [
    "model = TransClassifier.load_from_checkpoint(trainer.checkpoint_callback.kth_best_model)\n",
    "    # check how model did\n",
    "with torch.no_grad():\n",
    "    x_s, x_f, y, w = dataset.tensors\n",
    "    out = model(x_s.to(device), x_f.to(device))\n",
    "    probs = out[0].softmax(dim=1)[:, 1].cpu().numpy()\n",
    "    \n",
    "wrong = ((probs > .5) != data.label.values)\n",
    "data[\"probs\"] = probs\n",
    "data[\"wrong\"] = wrong\n",
    "f\"mean error {wrong.mean()}\""
   ]
  },
  {
   "cell_type": "markdown",
   "metadata": {},
   "source": [
    "top false positives"
   ]
  },
  {
   "cell_type": "code",
   "execution_count": 10,
   "metadata": {},
   "outputs": [
    {
     "data": {
      "text/html": [
       "<div>\n",
       "<style scoped>\n",
       "    .dataframe tbody tr th:only-of-type {\n",
       "        vertical-align: middle;\n",
       "    }\n",
       "\n",
       "    .dataframe tbody tr th {\n",
       "        vertical-align: top;\n",
       "    }\n",
       "\n",
       "    .dataframe thead th {\n",
       "        text-align: right;\n",
       "    }\n",
       "</style>\n",
       "<table border=\"1\" class=\"dataframe\">\n",
       "  <thead>\n",
       "    <tr style=\"text-align: right;\">\n",
       "      <th></th>\n",
       "      <th>Date</th>\n",
       "      <th>Original Description</th>\n",
       "      <th>Labels</th>\n",
       "      <th>Amount</th>\n",
       "      <th>probs</th>\n",
       "    </tr>\n",
       "  </thead>\n",
       "  <tbody>\n",
       "    <tr>\n",
       "      <th>970</th>\n",
       "      <td>2019-06-04</td>\n",
       "      <td>PETPOCKETBOOK</td>\n",
       "      <td>NaN</td>\n",
       "      <td>44.00</td>\n",
       "      <td>0.958228</td>\n",
       "    </tr>\n",
       "    <tr>\n",
       "      <th>2052</th>\n",
       "      <td>2018-10-04</td>\n",
       "      <td>Medford MA Utility ~ Tran: ACHDW</td>\n",
       "      <td>NaN</td>\n",
       "      <td>54.96</td>\n",
       "      <td>0.962399</td>\n",
       "    </tr>\n",
       "    <tr>\n",
       "      <th>1665</th>\n",
       "      <td>2018-12-31</td>\n",
       "      <td>WHOLEFDS MDF 10380</td>\n",
       "      <td>NaN</td>\n",
       "      <td>10.84</td>\n",
       "      <td>0.970529</td>\n",
       "    </tr>\n",
       "    <tr>\n",
       "      <th>1909</th>\n",
       "      <td>2018-11-05</td>\n",
       "      <td>Loyal Nine</td>\n",
       "      <td>NaN</td>\n",
       "      <td>31.25</td>\n",
       "      <td>0.971103</td>\n",
       "    </tr>\n",
       "    <tr>\n",
       "      <th>1617</th>\n",
       "      <td>2019-01-11</td>\n",
       "      <td>NAVEO CU ONLINE PMT 190111</td>\n",
       "      <td>NaN</td>\n",
       "      <td>178.58</td>\n",
       "      <td>0.978446</td>\n",
       "    </tr>\n",
       "  </tbody>\n",
       "</table>\n",
       "</div>"
      ],
      "text/plain": [
       "           Date              Original Description Labels  Amount     probs\n",
       "970  2019-06-04                     PETPOCKETBOOK    NaN   44.00  0.958228\n",
       "2052 2018-10-04  Medford MA Utility ~ Tran: ACHDW    NaN   54.96  0.962399\n",
       "1665 2018-12-31                WHOLEFDS MDF 10380    NaN   10.84  0.970529\n",
       "1909 2018-11-05                        Loyal Nine    NaN   31.25  0.971103\n",
       "1617 2019-01-11        NAVEO CU ONLINE PMT 190111    NaN  178.58  0.978446"
      ]
     },
     "execution_count": 10,
     "metadata": {},
     "output_type": "execute_result"
    }
   ],
   "source": [
    "data.query(\"wrong\").sort_values(\"probs\").tail().loc[:,[\"Date\", \"Original Description\", \"Labels\", \"Amount\", \"probs\"]]"
   ]
  },
  {
   "cell_type": "markdown",
   "metadata": {},
   "source": [
    "top false negatives"
   ]
  },
  {
   "cell_type": "code",
   "execution_count": 11,
   "metadata": {},
   "outputs": [
    {
     "data": {
      "text/html": [
       "<div>\n",
       "<style scoped>\n",
       "    .dataframe tbody tr th:only-of-type {\n",
       "        vertical-align: middle;\n",
       "    }\n",
       "\n",
       "    .dataframe tbody tr th {\n",
       "        vertical-align: top;\n",
       "    }\n",
       "\n",
       "    .dataframe thead th {\n",
       "        text-align: right;\n",
       "    }\n",
       "</style>\n",
       "<table border=\"1\" class=\"dataframe\">\n",
       "  <thead>\n",
       "    <tr style=\"text-align: right;\">\n",
       "      <th></th>\n",
       "      <th>Date</th>\n",
       "      <th>Original Description</th>\n",
       "      <th>Labels</th>\n",
       "      <th>Amount</th>\n",
       "      <th>probs</th>\n",
       "    </tr>\n",
       "  </thead>\n",
       "  <tbody>\n",
       "    <tr>\n",
       "      <th>2129</th>\n",
       "      <td>2018-09-23</td>\n",
       "      <td>UBER TECHNOLOGIES INC</td>\n",
       "      <td>Common</td>\n",
       "      <td>23.84</td>\n",
       "      <td>0.006179</td>\n",
       "    </tr>\n",
       "    <tr>\n",
       "      <th>1072</th>\n",
       "      <td>2019-05-12</td>\n",
       "      <td>SQ *THE BACON TRUCK LLC</td>\n",
       "      <td>Common</td>\n",
       "      <td>29.21</td>\n",
       "      <td>0.008110</td>\n",
       "    </tr>\n",
       "    <tr>\n",
       "      <th>1318</th>\n",
       "      <td>2019-03-17</td>\n",
       "      <td>JETBLUE     2792607175535</td>\n",
       "      <td>Common</td>\n",
       "      <td>60.00</td>\n",
       "      <td>0.010220</td>\n",
       "    </tr>\n",
       "    <tr>\n",
       "      <th>4003</th>\n",
       "      <td>2017-07-30</td>\n",
       "      <td>Amazon.com</td>\n",
       "      <td>Common</td>\n",
       "      <td>43.55</td>\n",
       "      <td>0.011140</td>\n",
       "    </tr>\n",
       "    <tr>\n",
       "      <th>3463</th>\n",
       "      <td>2017-11-26</td>\n",
       "      <td>UBER   *TRIP 4FPFB</td>\n",
       "      <td>Common</td>\n",
       "      <td>16.17</td>\n",
       "      <td>0.012539</td>\n",
       "    </tr>\n",
       "  </tbody>\n",
       "</table>\n",
       "</div>"
      ],
      "text/plain": [
       "           Date       Original Description  Labels  Amount     probs\n",
       "2129 2018-09-23      UBER TECHNOLOGIES INC  Common   23.84  0.006179\n",
       "1072 2019-05-12    SQ *THE BACON TRUCK LLC  Common   29.21  0.008110\n",
       "1318 2019-03-17  JETBLUE     2792607175535  Common   60.00  0.010220\n",
       "4003 2017-07-30                 Amazon.com  Common   43.55  0.011140\n",
       "3463 2017-11-26         UBER   *TRIP 4FPFB  Common   16.17  0.012539"
      ]
     },
     "execution_count": 11,
     "metadata": {},
     "output_type": "execute_result"
    }
   ],
   "source": [
    "data.query(\"wrong\").sort_values(\"probs\").head().loc[:,[\"Date\", \"Original Description\", \"Labels\", \"Amount\", \"probs\"]]"
   ]
  }
 ],
 "metadata": {
  "kernelspec": {
   "display_name": "sabi",
   "language": "python",
   "name": "sabi"
  },
  "language_info": {
   "codemirror_mode": {
    "name": "ipython",
    "version": 3
   },
   "file_extension": ".py",
   "mimetype": "text/x-python",
   "name": "python",
   "nbconvert_exporter": "python",
   "pygments_lexer": "ipython3",
   "version": "3.7.7"
  }
 },
 "nbformat": 4,
 "nbformat_minor": 4
}
